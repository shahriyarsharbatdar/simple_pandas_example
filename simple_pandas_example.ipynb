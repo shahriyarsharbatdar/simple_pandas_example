{
 "cells": [
  {
   "cell_type": "markdown",
   "id": "e38e320e-61ce-4098-9dfc-596d5da3e823",
   "metadata": {},
   "source": [
    "# 1"
   ]
  },
  {
   "cell_type": "markdown",
   "id": "31b8bf72-df3e-4fb7-9cec-dda491f28975",
   "metadata": {},
   "source": [
    "What is the output of the following code?"
   ]
  },
  {
   "cell_type": "code",
   "execution_count": 13,
   "id": "52210601-bb86-49c5-8162-55ea1a09f967",
   "metadata": {},
   "outputs": [
    {
     "name": "stdout",
     "output_type": "stream",
     "text": [
      "0    999\n",
      "1      2\n",
      "2      3\n",
      "dtype: int64\n",
      "[999   2   3]\n"
     ]
    }
   ],
   "source": [
    "import pandas as pd\n",
    "import numpy as np\n",
    "\n",
    "a = np.array([1, 2, 3])\n",
    "s = pd.Series(a)\n",
    "\n",
    "s[0] = 999\n",
    "\n",
    "print(s)\n",
    "print(a)"
   ]
  },
  {
   "cell_type": "markdown",
   "id": "cd87a52a-3c64-4db8-8890-553d4c0e59ed",
   "metadata": {},
   "source": [
    "# 2"
   ]
  },
  {
   "cell_type": "markdown",
   "id": "9bec30e6-0895-4507-be5a-f68123636ac8",
   "metadata": {},
   "source": [
    "Write a python code that calculates mean, standard deviation and median of the following pandas series:\n",
    "\n",
    "a = pd.Series(range(10))"
   ]
  },
  {
   "cell_type": "markdown",
   "id": "5dcbf1bd-643e-480f-8847-057baf8b72b5",
   "metadata": {},
   "source": [
    "answer:"
   ]
  },
  {
   "cell_type": "code",
   "execution_count": 42,
   "id": "b568105e-d57f-4261-9b2b-73c0cefdfb0a",
   "metadata": {},
   "outputs": [
    {
     "name": "stdout",
     "output_type": "stream",
     "text": [
      "4.5 3.0276503540974917 4.5\n"
     ]
    }
   ],
   "source": [
    "a = pd.Series(range(10))\n",
    "print(a.median(), a.std(), a.mean())"
   ]
  },
  {
   "cell_type": "code",
   "execution_count": null,
   "id": "58b9d271-57a0-4574-a64e-b6a3b048fd58",
   "metadata": {},
   "outputs": [],
   "source": []
  }
 ],
 "metadata": {
  "kernelspec": {
   "display_name": "Python 3 (ipykernel)",
   "language": "python",
   "name": "python3"
  },
  "language_info": {
   "codemirror_mode": {
    "name": "ipython",
    "version": 3
   },
   "file_extension": ".py",
   "mimetype": "text/x-python",
   "name": "python",
   "nbconvert_exporter": "python",
   "pygments_lexer": "ipython3",
   "version": "3.11.4"
  }
 },
 "nbformat": 4,
 "nbformat_minor": 5
}
