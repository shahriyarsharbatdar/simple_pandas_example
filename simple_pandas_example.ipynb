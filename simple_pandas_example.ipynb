{
 "cells": [
  {
   "cell_type": "markdown",
   "id": "e38e320e-61ce-4098-9dfc-596d5da3e823",
   "metadata": {},
   "source": [
    "# 1"
   ]
  },
  {
   "cell_type": "markdown",
   "id": "31b8bf72-df3e-4fb7-9cec-dda491f28975",
   "metadata": {},
   "source": [
    "What is the output of the following code?"
   ]
  },
  {
   "cell_type": "code",
   "execution_count": 13,
   "id": "52210601-bb86-49c5-8162-55ea1a09f967",
   "metadata": {},
   "outputs": [
    {
     "name": "stdout",
     "output_type": "stream",
     "text": [
      "0    999\n",
      "1      2\n",
      "2      3\n",
      "dtype: int64\n",
      "[999   2   3]\n"
     ]
    }
   ],
   "source": [
    "import pandas as pd\n",
    "import numpy as np\n",
    "\n",
    "a = np.array([1, 2, 3])\n",
    "s = pd.Series(a)\n",
    "\n",
    "s[0] = 999\n",
    "\n",
    "print(s)\n",
    "print(a)"
   ]
  },
  {
   "cell_type": "markdown",
   "id": "cd87a52a-3c64-4db8-8890-553d4c0e59ed",
   "metadata": {},
   "source": [
    "# 2"
   ]
  },
  {
   "cell_type": "markdown",
   "id": "9bec30e6-0895-4507-be5a-f68123636ac8",
   "metadata": {},
   "source": [
    "Write a python code that calculates mean, standard deviation and median of the following pandas series:\n",
    "\n",
    "a = pd.Series(range(10))"
   ]
  },
  {
   "cell_type": "markdown",
   "id": "5dcbf1bd-643e-480f-8847-057baf8b72b5",
   "metadata": {},
   "source": [
    "answer:"
   ]
  },
  {
   "cell_type": "code",
   "execution_count": 42,
   "id": "b568105e-d57f-4261-9b2b-73c0cefdfb0a",
   "metadata": {},
   "outputs": [
    {
     "name": "stdout",
     "output_type": "stream",
     "text": [
      "4.5 3.0276503540974917 4.5\n"
     ]
    }
   ],
   "source": [
    "a = pd.Series(range(10))\n",
    "print(a.median(), a.std(), a.mean())"
   ]
  },
  {
   "cell_type": "markdown",
   "id": "fc1af248-0056-475f-8d60-543660e8fda0",
   "metadata": {},
   "source": [
    "# 3"
   ]
  },
  {
   "cell_type": "markdown",
   "id": "859f6de7-2ec6-4de2-b4a9-599ed278f404",
   "metadata": {},
   "source": [
    "Write a python program that creates a pandas series of length 10 containing random integer numbers between 0 to 100.\n",
    "\n",
    "Filter the random numbers in s to only contain odd numbers."
   ]
  },
  {
   "cell_type": "markdown",
   "id": "b63f51e9-48b5-4a03-a138-d3f5156a8c0a",
   "metadata": {},
   "source": [
    "answer:"
   ]
  },
  {
   "cell_type": "code",
   "execution_count": 50,
   "id": "6b184410-6182-4922-a9a7-9664f50cf172",
   "metadata": {},
   "outputs": [],
   "source": [
    "x = pd.Series(np.random.randint(0, 100, 10))\n",
    "#odd\n",
    "s = x[x % 2 == 1]"
   ]
  },
  {
   "cell_type": "code",
   "execution_count": 51,
   "id": "d0ecad27-5d86-4f2b-9f2a-85c17bbcd0e6",
   "metadata": {},
   "outputs": [
    {
     "data": {
      "text/plain": [
       "0    54\n",
       "1    37\n",
       "2    57\n",
       "3     9\n",
       "4    51\n",
       "5    29\n",
       "6    41\n",
       "7    68\n",
       "8    37\n",
       "9    14\n",
       "dtype: int64"
      ]
     },
     "execution_count": 51,
     "metadata": {},
     "output_type": "execute_result"
    }
   ],
   "source": [
    "x"
   ]
  },
  {
   "cell_type": "code",
   "execution_count": 52,
   "id": "298eda01-d09d-4dc9-9031-f01dae077940",
   "metadata": {},
   "outputs": [
    {
     "data": {
      "text/plain": [
       "1    37\n",
       "2    57\n",
       "3     9\n",
       "4    51\n",
       "5    29\n",
       "6    41\n",
       "8    37\n",
       "dtype: int64"
      ]
     },
     "execution_count": 52,
     "metadata": {},
     "output_type": "execute_result"
    }
   ],
   "source": [
    "s"
   ]
  },
  {
   "cell_type": "code",
   "execution_count": null,
   "id": "9ac00c56-5df7-49ba-ab27-395ec7ca32d4",
   "metadata": {},
   "outputs": [],
   "source": []
  }
 ],
 "metadata": {
  "kernelspec": {
   "display_name": "Python 3 (ipykernel)",
   "language": "python",
   "name": "python3"
  },
  "language_info": {
   "codemirror_mode": {
    "name": "ipython",
    "version": 3
   },
   "file_extension": ".py",
   "mimetype": "text/x-python",
   "name": "python",
   "nbconvert_exporter": "python",
   "pygments_lexer": "ipython3",
   "version": "3.11.4"
  }
 },
 "nbformat": 4,
 "nbformat_minor": 5
}
